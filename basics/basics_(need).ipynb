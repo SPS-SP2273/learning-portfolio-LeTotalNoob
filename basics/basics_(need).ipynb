{
 "cells": [
  {
   "cell_type": "markdown",
   "id": "123456",
   "metadata": {},
   "source": [
    "<div style=\"text-align:left;font-size:2em\"><span style=\"font-weight:bolder;font-size:1.25em\">SP2273 | Learning Portfolio</span><br><br><span style=\"font-weight:bold;color:darkred\">Basics (Need)</span></div>"
   ]
  },
  {
   "cell_type": "markdown",
   "id": "930d690a",
   "metadata": {},
   "source": [
    "## 1 Some Python Basics"
   ]
  },
  {
   "cell_type": "markdown",
   "id": "5d6f352f",
   "metadata": {},
   "source": [
    "### 1.1 Functions"
   ]
  },
  {
   "cell_type": "code",
   "execution_count": 1,
   "id": "c49f6ad6",
   "metadata": {},
   "outputs": [
    {
     "name": "stdout",
     "output_type": "stream",
     "text": [
      "hello world\n"
     ]
    }
   ],
   "source": [
    "print ('hello world')"
   ]
  },
  {
   "cell_type": "markdown",
   "id": "95accab6",
   "metadata": {},
   "source": [
    "### 1.2 Python is interpreted"
   ]
  },
  {
   "cell_type": "code",
   "execution_count": 3,
   "id": "bd8f1889",
   "metadata": {},
   "outputs": [
    {
     "name": "stdout",
     "output_type": "stream",
     "text": [
      "Hello World\n"
     ]
    },
    {
     "data": {
      "text/plain": [
       "'Hello World again'"
      ]
     },
     "execution_count": 3,
     "metadata": {},
     "output_type": "execute_result"
    }
   ],
   "source": [
    "\n",
    "print('Hello World')\n",
    "'Hello World again'\n"
   ]
  },
  {
   "cell_type": "markdown",
   "id": "a030ecdf",
   "metadata": {},
   "source": [
    "### 1.3 Python is sensitive."
   ]
  },
  {
   "cell_type": "markdown",
   "id": "c1c2d0d8",
   "metadata": {},
   "source": [
    "python is case sensitive, \"print\" works but \"Print\" does not."
   ]
  },
  {
   "cell_type": "markdown",
   "id": "b8c134ff",
   "metadata": {},
   "source": [
    "### 1.4 Comments"
   ]
  },
  {
   "cell_type": "code",
   "execution_count": 17,
   "id": "b330561b",
   "metadata": {},
   "outputs": [
    {
     "name": "stdout",
     "output_type": "stream",
     "text": [
      "Hello world\n",
      "One\n",
      "Three\n"
     ]
    }
   ],
   "source": [
    "print(\"Hello world\" ) #uhuanlo i can write wutever i want here\n",
    "\n",
    "\n",
    "# This is a comment\n",
    "print('One')              # This is a comment.\n",
    "# print('Two')            # The interpreter ignores this line.\n",
    "print('Three')            # This is\n",
    "                          # also a way to\n",
    "                          # write comments"
   ]
  },
  {
   "cell_type": "markdown",
   "id": "6fbbcf28",
   "metadata": {},
   "source": [
    "### 1.5 = is not the same as =="
   ]
  },
  {
   "cell_type": "code",
   "execution_count": 16,
   "id": "294ad5b4",
   "metadata": {},
   "outputs": [
    {
     "data": {
      "text/plain": [
       "True"
      ]
     },
     "execution_count": 16,
     "metadata": {},
     "output_type": "execute_result"
    }
   ],
   "source": [
    "name = \"batman\"\n",
    "name == \"batman\"\n"
   ]
  },
  {
   "cell_type": "markdown",
   "id": "65b793d9",
   "metadata": {},
   "source": [
    "### 1.6 Use if to make decisions"
   ]
  },
  {
   "cell_type": "code",
   "execution_count": 25,
   "id": "181dd356",
   "metadata": {},
   "outputs": [
    {
     "name": "stdout",
     "output_type": "stream",
     "text": [
      "hello hero|help me pls\n"
     ]
    }
   ],
   "source": [
    "name = 'yuan zhe'\n",
    "if name == 'yuan zhe':\n",
    "    print('hello hero|help me pls')\n",
    "else:\n",
    "    print('hello world')"
   ]
  },
  {
   "cell_type": "markdown",
   "id": "b515f152",
   "metadata": {},
   "source": [
    "### 1.7 Indentations (spaces) are sooo IMPORTANT!"
   ]
  },
  {
   "cell_type": "markdown",
   "id": "673230d6",
   "metadata": {},
   "source": [
    "x = 10\n",
    "print(x) this works, but \n",
    "x = 10\n",
    " print(x) does not work due to the spacing."
   ]
  },
  {
   "cell_type": "markdown",
   "id": "315f1292",
   "metadata": {},
   "source": [
    "### 1.8 ‘age’ is English, age is a variable."
   ]
  },
  {
   "cell_type": "code",
   "execution_count": 29,
   "id": "c39c687d",
   "metadata": {},
   "outputs": [
    {
     "name": "stdout",
     "output_type": "stream",
     "text": [
      "27\n",
      "yuan_zhe_age\n"
     ]
    }
   ],
   "source": [
    "yuan_zhe_age = 27\n",
    "print(yuan_zhe_age)\n",
    "print(\"yuan_zhe_age\")"
   ]
  },
  {
   "cell_type": "markdown",
   "id": "347f4521",
   "metadata": {},
   "source": [
    "### 1.9 Escape sequences"
   ]
  },
  {
   "cell_type": "code",
   "execution_count": 44,
   "id": "c4a4b51f",
   "metadata": {},
   "outputs": [
    {
     "name": "stdout",
     "output_type": "stream",
     "text": [
      "[[1, 'A'], [2, 'B'], [3, 'C'], [4, 'D'], [5, 'E']]\n"
     ]
    }
   ],
   "source": [
    "py_list_2 = [[1, \"A\"],      # A 2D list\n",
    "             [2, \"B\"],\n",
    "             [3, \"C\"],\n",
    "             [4, \"D\"],\n",
    "             [5, \"E\"]]\n",
    "print(py_list_2)\n"
   ]
  },
  {
   "cell_type": "code",
   "execution_count": 47,
   "id": "dbf4418e",
   "metadata": {},
   "outputs": [
    {
     "name": "stdout",
     "output_type": "stream",
     "text": [
      "sps god\n"
     ]
    }
   ],
   "source": [
    "\n",
    "personal_info = {\n",
    "    'Names': 'yuan zhe',\n",
    "    'Real Name': 'sps god',\n",
    "    'Age': 27,\n",
    "    'Affiliation': 'SP2273',\n",
    "    'Universe': 'SPS'\n",
    "}\n",
    "print(personal_info['Real Name'])\n"
   ]
  },
  {
   "cell_type": "markdown",
   "id": "1fe8dc91",
   "metadata": {},
   "source": [
    "## 2 Giving Python superpowers"
   ]
  },
  {
   "cell_type": "markdown",
   "id": "91400217",
   "metadata": {},
   "source": [
    "### 2.1 Packages"
   ]
  },
  {
   "cell_type": "code",
   "execution_count": 65,
   "id": "d54a1dc3",
   "metadata": {},
   "outputs": [
    {
     "data": {
      "text/plain": [
       "5.196152422706632"
      ]
     },
     "execution_count": 65,
     "metadata": {},
     "output_type": "execute_result"
    }
   ],
   "source": [
    "yuan_zhe_age=27\n",
    "import numpy as np\n",
    "np.sqrt(yuan_zhe_age)\n"
   ]
  },
  {
   "cell_type": "code",
   "execution_count": 67,
   "id": "f38e4ae0",
   "metadata": {},
   "outputs": [
    {
     "data": {
      "text/plain": [
       "array([2., 3., 4.])"
      ]
     },
     "execution_count": 67,
     "metadata": {},
     "output_type": "execute_result"
    }
   ],
   "source": [
    "np.sqrt([4,9,16])"
   ]
  },
  {
   "cell_type": "markdown",
   "id": "dc936a43",
   "metadata": {},
   "source": [
    "### 2.2 The dot (.)\n"
   ]
  },
  {
   "cell_type": "markdown",
   "id": "73096e35",
   "metadata": {},
   "source": [
    "\"I am Batman\".split() works but\n",
    "1234.split() does not"
   ]
  },
  {
   "cell_type": "markdown",
   "id": "5d9b3ebb",
   "metadata": {},
   "source": [
    "## Exercise 1 :  Total recall?"
   ]
  },
  {
   "cell_type": "markdown",
   "id": "6d4fdad0",
   "metadata": {},
   "source": [
    "case sensitive, print works but Print does not\n",
    "age=(12) defines age to be 12, age==12 asks if age is equal 12, hence it is true/false\n",
    "import numpy/math\n",
    "python has 3 different brackets, (),{},[] \n",
    "*python is intepreted*\n",
    "*adding a # allows me to add comments*\n",
    "*if can be used to make decision*\n",
    "*spaces are important*\n",
    "*print(age) gives me 12 but print('age') gives me the english word \"age\"*\n",
    "*() are for functions and maths, [] are for data, {}are for storing data and uses a key to identify a value*\n",
    "*dot (.)is used to indicate ownership*"
   ]
  },
  {
   "cell_type": "markdown",
   "id": "9383089e",
   "metadata": {},
   "source": [
    "## Exercise 2 :  Debug me"
   ]
  },
  {
   "cell_type": "code",
   "execution_count": 68,
   "id": "b4389c77",
   "metadata": {},
   "outputs": [
    {
     "name": "stdout",
     "output_type": "stream",
     "text": [
      "3 4 5.0\n"
     ]
    }
   ],
   "source": [
    "import numpy as np\n",
    "x, y = 3, 4\n",
    "z = np.sqrt(x**2 + y**2)\n",
    "print(x, y, z)\n",
    "\n"
   ]
  },
  {
   "cell_type": "markdown",
   "id": "606f58e0",
   "metadata": {},
   "source": [
    "## Exercise 3 :  In your own words"
   ]
  },
  {
   "cell_type": "markdown",
   "id": "a2b19309",
   "metadata": {},
   "source": [
    "| 1 | function is something that executes a task                                                                                                                                                                                      |   |   |   |\n",
    "|---|:---------------------------------------------------------------------------------------------------------------------------------------------------------------------------------------------------------------------------------|---|---|---|\n",
    "| 2 | arguements are added into functions to execute the task with the argument input                                                                                                                                                 |   |   |   |\n",
    "| 3 | comments are used to add notes to code                                                                                                                                                                                          |   |   |   |\n",
    "| 4 | indentations are used to show which lines of code belong in the same block                                                                                                                                                      |   |   |   |\n",
    "| 5 | packages are imported to make python better, to give python more functions                                                                                                                                                      |   |   |   |\n",
    "| 6 | shows where something belongs to ie(numpy.sqrt means sqrt function belongs to numpy) this is especially important if we import more than 2 packages that can do the same function like math and numpy having the sqrt function. |   |   |   |"
   ]
  },
  {
   "cell_type": "markdown",
   "id": "f00d5a80",
   "metadata": {},
   "source": [
    "## Exercise 4 :  More than one way to divide"
   ]
  },
  {
   "cell_type": "markdown",
   "id": "42780029",
   "metadata": {},
   "source": [
    "5/2 divides 5 by 2 giving 2.5\n",
    "5//2 is a floor function rounding down the output to a whole number. Hence 5//2 is equal 2. It provides us the divident without the remainder\n",
    "5%2 divides 5 by 2 but outputs the remainder. hence 5%2 outputs 1.\n",
    "\n",
    "\n"
   ]
  },
  {
   "cell_type": "code",
   "execution_count": 1,
   "id": "f75b856a",
   "metadata": {},
   "outputs": [
    {
     "data": {
      "text/plain": [
       "1"
      ]
     },
     "execution_count": 1,
     "metadata": {},
     "output_type": "execute_result"
    }
   ],
   "source": [
    "5%2"
   ]
  },
  {
   "cell_type": "code",
   "execution_count": null,
   "id": "3d6afa32",
   "metadata": {},
   "outputs": [],
   "source": []
  }
 ],
 "metadata": {
  "kernelspec": {
   "display_name": "Python 3 (ipykernel)",
   "language": "python",
   "name": "python3"
  },
  "language_info": {
   "codemirror_mode": {
    "name": "ipython",
    "version": 3
   },
   "file_extension": ".py",
   "mimetype": "text/x-python",
   "name": "python",
   "nbconvert_exporter": "python",
   "pygments_lexer": "ipython3",
   "version": "3.10.8"
  },
  "toc": {
   "base_numbering": 1,
   "nav_menu": {},
   "number_sections": true,
   "sideBar": true,
   "skip_h1_title": false,
   "title_cell": "Table of Contents",
   "title_sidebar": "Contents",
   "toc_cell": false,
   "toc_position": {},
   "toc_section_display": true,
   "toc_window_display": false
  },
  "varInspector": {
   "cols": {
    "lenName": 16,
    "lenType": 16,
    "lenVar": 40
   },
   "kernels_config": {
    "python": {
     "delete_cmd_postfix": "",
     "delete_cmd_prefix": "del ",
     "library": "var_list.py",
     "varRefreshCmd": "print(var_dic_list())"
    },
    "r": {
     "delete_cmd_postfix": ") ",
     "delete_cmd_prefix": "rm(",
     "library": "var_list.r",
     "varRefreshCmd": "cat(var_dic_list()) "
    }
   },
   "types_to_exclude": [
    "module",
    "function",
    "builtin_function_or_method",
    "instance",
    "_Feature"
   ],
   "window_display": false
  },
  "vscode": {
   "interpreter": {
    "hash": "31f2aee4e71d21fbe5cf8b01ff0e069b9275f58929596ceb00d14d90e3e16cd6"
   }
  }
 },
 "nbformat": 4,
 "nbformat_minor": 5
}
