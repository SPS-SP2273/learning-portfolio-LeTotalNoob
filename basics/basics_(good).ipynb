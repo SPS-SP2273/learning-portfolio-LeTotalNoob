{
 "cells": [
  {
   "cell_type": "markdown",
   "id": "123456",
   "metadata": {},
   "source": [
    "<div style=\"text-align:left;font-size:2em\"><span style=\"font-weight:bolder;font-size:1.25em\">SP2273 | Learning Portfolio</span><br><br><span style=\"font-weight:bold;color:darkred\">Basics (Good)</span></div>"
   ]
  },
  {
   "cell_type": "markdown",
   "id": "b28af323",
   "metadata": {},
   "source": [
    "## 1 More Python Basics"
   ]
  },
  {
   "cell_type": "markdown",
   "id": "0416360a",
   "metadata": {},
   "source": [
    "### 1.1 Computers read = from Right to Left!"
   ]
  },
  {
   "cell_type": "markdown",
   "id": "00484375",
   "metadata": {},
   "source": [
    "nice\n"
   ]
  },
  {
   "cell_type": "markdown",
   "id": "064b6c00",
   "metadata": {},
   "source": [
    "### 1.2 Shorter and cleaner"
   ]
  },
  {
   "cell_type": "code",
   "execution_count": 3,
   "id": "31085dfc",
   "metadata": {},
   "outputs": [
    {
     "data": {
      "text/plain": [
       "1600"
      ]
     },
     "execution_count": 3,
     "metadata": {},
     "output_type": "execute_result"
    }
   ],
   "source": [
    "y = 40\n",
    "y **= 2\n",
    "y\n"
   ]
  },
  {
   "cell_type": "markdown",
   "id": "359fb9b5",
   "metadata": {},
   "source": [
    "+= adds \n",
    "-= substracts\n",
    "/= divides\n",
    "*= multiplies\n",
    "**= works as well (power function)\n"
   ]
  },
  {
   "cell_type": "markdown",
   "id": "3f68b191",
   "metadata": {},
   "source": [
    "### 1.3 Asking questions"
   ]
  },
  {
   "cell_type": "code",
   "execution_count": 9,
   "id": "6569954f",
   "metadata": {},
   "outputs": [
    {
     "data": {
      "text/plain": [
       "False"
      ]
     },
     "execution_count": 9,
     "metadata": {},
     "output_type": "execute_result"
    }
   ],
   "source": [
    "fruits = [\"apple\", \"banana\", \"pineapple\", \"jackfruit\"]\n",
    "vegetables = [\"celery\", \"potato\", \"broccoli\", \"kale\"]\n",
    "(\"apple\" in vegetables) and (\"celery\" in vegetables)"
   ]
  },
  {
   "cell_type": "markdown",
   "id": "933088e9",
   "metadata": {},
   "source": [
    "### 1.4 There is more to if"
   ]
  },
  {
   "cell_type": "code",
   "execution_count": 12,
   "id": "54f21472",
   "metadata": {},
   "outputs": [
    {
     "name": "stdout",
     "output_type": "stream",
     "text": [
      "Hello World!\n"
     ]
    }
   ],
   "source": [
    "name = 'yuan zhe'\n",
    "\n",
    "if name == 'Batman':\n",
    "    print('Hello Hero | Batman!')\n",
    "elif name == 'Robin':\n",
    "    print('Hello Sidekick | Robin!')\n",
    "else:\n",
    "    print('Hello World!')"
   ]
  },
  {
   "cell_type": "markdown",
   "id": "bddcac67",
   "metadata": {},
   "source": [
    "### 1.5 Python stores information in different formats or types.\n"
   ]
  },
  {
   "cell_type": "code",
   "execution_count": 23,
   "id": "a1c1aa34",
   "metadata": {},
   "outputs": [
    {
     "name": "stdout",
     "output_type": "stream",
     "text": [
      "1 <class 'int'>\n",
      "1.234 <class 'str'>\n",
      "1.2345 <class 'float'>\n",
      "(1.2345+0.4j) <class 'complex'>\n",
      "(1.2345+0.4j) <class 'complex'>\n"
     ]
    }
   ],
   "source": [
    "x = int(1.234)\n",
    "print (x, type(x))\n",
    "\n",
    "x= str(1.234)\n",
    "print (x, type(x))\n",
    "\n",
    "x= float(1.2345)\n",
    "print (x, type(x))\n",
    "\n",
    "x= complex (1.2345+0.4j)\n",
    "print (x, type(x))\n",
    "\n",
    "x = 1.2345 + 0.4j\n",
    "x = complex(x)\n",
    "print (x, type(x))\n",
    "\n",
    "# you cannot force a imaginary number into an interger/float typecast as python doesnt know what to do with the imaginary \n",
    "#part, there is a function to just show the real/imaginary part but yuan zhe forgotten the syntax\n",
    "\n"
   ]
  },
  {
   "cell_type": "markdown",
   "id": "dc904ca0",
   "metadata": {},
   "source": [
    "### 1.6 Combining English and variables\n"
   ]
  },
  {
   "cell_type": "code",
   "execution_count": 31,
   "id": "89495606",
   "metadata": {},
   "outputs": [
    {
     "name": "stdout",
     "output_type": "stream",
     "text": [
      "Hello BATMAN!\n",
      "the value of 10 squared is 100!\n"
     ]
    }
   ],
   "source": [
    "name = \"Batman\"\n",
    "print(f\"Hello {name.upper()}!\")\n",
    "x= 10\n",
    "print(f\"the value of {x} squared is {x**2}!\")"
   ]
  },
  {
   "cell_type": "markdown",
   "id": "7679aa08",
   "metadata": {},
   "source": [
    "### 1.7 Python can be a prima-donna."
   ]
  },
  {
   "cell_type": "code",
   "execution_count": null,
   "id": "92e9846f",
   "metadata": {},
   "outputs": [],
   "source": [
    "\n",
    "# Your code here\n"
   ]
  },
  {
   "cell_type": "markdown",
   "id": "afb59355",
   "metadata": {},
   "source": [
    "## 2 Best Practices for Scientific Computing"
   ]
  },
  {
   "cell_type": "markdown",
   "id": "5e9efd13",
   "metadata": {},
   "source": [
    "### 2.1 Some tips"
   ]
  },
  {
   "cell_type": "code",
   "execution_count": null,
   "id": "870415e4",
   "metadata": {},
   "outputs": [],
   "source": [
    "\n",
    "# Your code here\n"
   ]
  },
  {
   "cell_type": "markdown",
   "id": "7b919daf",
   "metadata": {},
   "source": [
    "### 2.2 Getting help."
   ]
  },
  {
   "cell_type": "code",
   "execution_count": null,
   "id": "e689f2e3",
   "metadata": {},
   "outputs": [],
   "source": [
    "\n",
    "# Your code here\n"
   ]
  },
  {
   "cell_type": "markdown",
   "id": "09e3ba71",
   "metadata": {},
   "source": [
    "## Exercise 1 :  Bias for some heroes"
   ]
  },
  {
   "cell_type": "code",
   "execution_count": 61,
   "id": "3d6a54c0",
   "metadata": {},
   "outputs": [
    {
     "name": "stdout",
     "output_type": "stream",
     "text": [
      "Hello aqua man!\n"
     ]
    }
   ],
   "source": [
    "def hello (name):\n",
    "    if name == \"Batman\" or name == \"Black Widow\":\n",
    "        print(f\"Hello {name.upper()}!\")\n",
    "    else:\n",
    "        print(f\"Hello {name.lower()}!\") \n",
    "hello (\"AQUA MAN\")"
   ]
  },
  {
   "cell_type": "code",
   "execution_count": 63,
   "id": "5084e45b",
   "metadata": {},
   "outputs": [
    {
     "name": "stdout",
     "output_type": "stream",
     "text": [
      "Hello aqua man!\n"
     ]
    }
   ],
   "source": [
    "\n",
    "def hello (name):\n",
    "    if name == \"Batman\":\n",
    "        print(f\"Hello {name.upper()}!\")\n",
    "    elif name == \"Black Widow\":\n",
    "        print(f\"Hello {name.upper()}!\")\n",
    "    else:\n",
    "        print(f\"Hello {name.lower()}!\")\n",
    "hello(\"AQUA MAN\")\n",
    "        \n"
   ]
  },
  {
   "cell_type": "markdown",
   "id": "51ba7b99",
   "metadata": {},
   "source": [
    "## Exercise 2 :  Bias for some heroes, continues"
   ]
  },
  {
   "cell_type": "code",
   "execution_count": 73,
   "id": "22820dfe",
   "metadata": {},
   "outputs": [
    {
     "name": "stdout",
     "output_type": "stream",
     "text": [
      "Hello BATMAN!\n"
     ]
    }
   ],
   "source": [
    "def hello (name):\n",
    "    name1 = name.lower()\n",
    "    if name1 == \"batman\" or name1 == \"black widow\":\n",
    "        print(f\"Hello {name.upper()}!\")\n",
    "    else:\n",
    "        print(f\"Hello {name.lower()}!\") \n",
    "hello (\"bATman\")\n",
    "\n",
    "\n",
    "\n"
   ]
  },
  {
   "cell_type": "markdown",
   "id": "bd2d344b",
   "metadata": {},
   "source": [
    "## Exercise 3 :  Look for help to replace\n"
   ]
  },
  {
   "cell_type": "code",
   "execution_count": 84,
   "id": "e1abd269",
   "metadata": {},
   "outputs": [
    {
     "name": "stdout",
     "output_type": "stream",
     "text": [
      "the joker lives in gotham city\n"
     ]
    },
    {
     "data": {
      "text/plain": [
       "'the batman lives in gotham city'"
      ]
     },
     "execution_count": 84,
     "metadata": {},
     "output_type": "execute_result"
    }
   ],
   "source": [
    "x = (\"the joker lives in gotham city\")\n",
    "print(x)\n",
    "x.replace(\"joker\",\"batman\")\n"
   ]
  },
  {
   "cell_type": "code",
   "execution_count": null,
   "id": "6060948b",
   "metadata": {},
   "outputs": [],
   "source": []
  }
 ],
 "metadata": {
  "kernelspec": {
   "display_name": "Python 3 (ipykernel)",
   "language": "python",
   "name": "python3"
  },
  "language_info": {
   "codemirror_mode": {
    "name": "ipython",
    "version": 3
   },
   "file_extension": ".py",
   "mimetype": "text/x-python",
   "name": "python",
   "nbconvert_exporter": "python",
   "pygments_lexer": "ipython3",
   "version": "3.10.8"
  },
  "toc": {
   "base_numbering": 1,
   "nav_menu": {},
   "number_sections": true,
   "sideBar": true,
   "skip_h1_title": false,
   "title_cell": "Table of Contents",
   "title_sidebar": "Contents",
   "toc_cell": false,
   "toc_position": {},
   "toc_section_display": true,
   "toc_window_display": false
  },
  "varInspector": {
   "cols": {
    "lenName": 16,
    "lenType": 16,
    "lenVar": 40
   },
   "kernels_config": {
    "python": {
     "delete_cmd_postfix": "",
     "delete_cmd_prefix": "del ",
     "library": "var_list.py",
     "varRefreshCmd": "print(var_dic_list())"
    },
    "r": {
     "delete_cmd_postfix": ") ",
     "delete_cmd_prefix": "rm(",
     "library": "var_list.r",
     "varRefreshCmd": "cat(var_dic_list()) "
    }
   },
   "types_to_exclude": [
    "module",
    "function",
    "builtin_function_or_method",
    "instance",
    "_Feature"
   ],
   "window_display": false
  },
  "vscode": {
   "interpreter": {
    "hash": "31f2aee4e71d21fbe5cf8b01ff0e069b9275f58929596ceb00d14d90e3e16cd6"
   }
  }
 },
 "nbformat": 4,
 "nbformat_minor": 5
}
