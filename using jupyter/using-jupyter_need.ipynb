{
 "cells": [
  {
   "cell_type": "code",
   "execution_count": 1,
   "id": "ea6f545b",
   "metadata": {},
   "outputs": [
    {
     "name": "stdout",
     "output_type": "stream",
     "text": [
      "Hello World!\n"
     ]
    }
   ],
   "source": [
    "print('Hello World!')"
   ]
  },
  {
   "cell_type": "markdown",
   "id": "4b946559",
   "metadata": {},
   "source": [
    "The ships hung in the sky in much the same way that bricks don’t.\n",
    "\n"
   ]
  },
  {
   "cell_type": "markdown",
   "id": "2e95982d",
   "metadata": {},
   "source": [
    "The ships *hung in the sky* in much the same way that **bricks don’t.**<sup>1</sup><sub>hehexd</sub>"
   ]
  },
  {
   "cell_type": "markdown",
   "id": "57a1e684",
   "metadata": {},
   "source": [
    "#hehexd#"
   ]
  },
  {
   "cell_type": "markdown",
   "id": "17a228d5",
   "metadata": {},
   "source": [
    "The ships *hung in the sky* in much the same way that **bricks don’t.**<sup>1</sup><sub>QUOTE</sub>\n",
    "\n"
   ]
  },
  {
   "cell_type": "markdown",
   "id": "50feea31",
   "metadata": {},
   "source": [
    "# UHUANLO #"
   ]
  },
  {
   "cell_type": "code",
   "execution_count": 4,
   "id": "d595cf30",
   "metadata": {},
   "outputs": [
    {
     "ename": "SyntaxError",
     "evalue": "invalid syntax (167443671.py, line 1)",
     "output_type": "error",
     "traceback": [
      "\u001b[1;36m  Cell \u001b[1;32mIn[4], line 1\u001b[1;36m\u001b[0m\n\u001b[1;33m    ```python\u001b[0m\n\u001b[1;37m    ^\u001b[0m\n\u001b[1;31mSyntaxError\u001b[0m\u001b[1;31m:\u001b[0m invalid syntax\n"
     ]
    }
   ],
   "source": [
    "```python"
   ]
  },
  {
   "cell_type": "markdown",
   "id": "18cec8e3",
   "metadata": {},
   "source": [
    "```python"
   ]
  },
  {
   "cell_type": "markdown",
   "id": "513293d0",
   "metadata": {},
   "source": [
    "```\n"
   ]
  },
  {
   "cell_type": "markdown",
   "id": "e4e6b236",
   "metadata": {},
   "source": [
    "```python\n",
    "print('hello world')"
   ]
  },
  {
   "cell_type": "markdown",
   "id": "94f5d3c0",
   "metadata": {},
   "source": [
    "```python\n",
    "print('hello world')\n",
    "```"
   ]
  },
  {
   "cell_type": "markdown",
   "id": "5bfdd5cc",
   "metadata": {},
   "source": [
    "[youtube](https://www.youtube.com/)"
   ]
  },
  {
   "cell_type": "markdown",
   "id": "81947e5a",
   "metadata": {},
   "source": [
    "![test](https://nus.edu.sg/images/default-source/base/logo.png)"
   ]
  },
  {
   "cell_type": "markdown",
   "id": "6a7c567c",
   "metadata": {},
   "source": [
    "|A|B|C|\n",
    "|:---|:--:|---:|\n",
    "|a1|b1|c1|\n",
    "|a2|b2|c2|\n",
    "|a3|b3|c3|"
   ]
  },
  {
   "cell_type": "markdown",
   "id": "20f2ce72",
   "metadata": {},
   "source": [
    "| A    |  B   |    C |\n",
    "| :--- | :--: | ---: |\n",
    "| a1   |  b1  |   c1 |\n",
    "| a2   |  b2  |   c2 |\n",
    "| a3   |  b3  |   c3 |"
   ]
  },
  {
   "cell_type": "markdown",
   "id": "5a93a81e",
   "metadata": {},
   "source": [
    "| A    |  B   |    C |\n",
    "| :--- | :--:\n",
    "| a1   |  b1  |   c1 |\n",
    "| a2   |  b2  |   c2 |\n",
    "| a3   |  b3  |   c3 |"
   ]
  },
  {
   "cell_type": "markdown",
   "id": "d38bbea1",
   "metadata": {},
   "source": [
    "| A    |  B   |    C |\n",
    "| a1   |  b1  |   c1 |\n",
    "| a2   |  b2  |   c2 |\n",
    "| a3   |  b3  |   c3 |"
   ]
  },
  {
   "cell_type": "code",
   "execution_count": 6,
   "id": "59ab7bd2",
   "metadata": {},
   "outputs": [
    {
     "ename": "NameError",
     "evalue": "name 'uhuanlo' is not defined",
     "output_type": "error",
     "traceback": [
      "\u001b[1;31m---------------------------------------------------------------------------\u001b[0m",
      "\u001b[1;31mNameError\u001b[0m                                 Traceback (most recent call last)",
      "Cell \u001b[1;32mIn[6], line 1\u001b[0m\n\u001b[1;32m----> 1\u001b[0m \u001b[38;5;28mprint\u001b[39m(\u001b[43muhuanlo\u001b[49m)\n",
      "\u001b[1;31mNameError\u001b[0m: name 'uhuanlo' is not defined"
     ]
    }
   ],
   "source": [
    "print(uhuanlo)"
   ]
  },
  {
   "cell_type": "code",
   "execution_count": 7,
   "id": "97ceed40",
   "metadata": {},
   "outputs": [
    {
     "name": "stdout",
     "output_type": "stream",
     "text": [
      "interesting\n"
     ]
    }
   ],
   "source": [
    "print('interesting')"
   ]
  },
  {
   "cell_type": "markdown",
   "id": "d24d1f6f",
   "metadata": {},
   "source": [
    "1. Master Yoda\n",
    "1. Luke Skywalker\n",
    "1. Anakin Skywalker"
   ]
  },
  {
   "cell_type": "markdown",
   "id": "b65ff258",
   "metadata": {},
   "source": [
    "1. Master Yoda\n",
    "2. Luke Skywalker\n",
    "3. Anakin Skywalker"
   ]
  },
  {
   "cell_type": "markdown",
   "id": "f31179e1",
   "metadata": {},
   "source": [
    "1. Master Yoda\n",
    "1. Luke Skywalker\n",
    "1. Anakin Skywalker"
   ]
  },
  {
   "cell_type": "markdown",
   "id": "d4562381",
   "metadata": {},
   "source": [
    " -Master Yoda Luke Skywalker\n",
    "1. Anakin Skywalker"
   ]
  },
  {
   "cell_type": "code",
   "execution_count": 8,
   "id": "dc2c4aa6",
   "metadata": {},
   "outputs": [
    {
     "ename": "SyntaxError",
     "evalue": "invalid syntax (1191737355.py, line 1)",
     "output_type": "error",
     "traceback": [
      "\u001b[1;36m  Cell \u001b[1;32mIn[8], line 1\u001b[1;36m\u001b[0m\n\u001b[1;33m    - Master Yoda\u001b[0m\n\u001b[1;37m             ^\u001b[0m\n\u001b[1;31mSyntaxError\u001b[0m\u001b[1;31m:\u001b[0m invalid syntax\n"
     ]
    }
   ],
   "source": [
    "- Master Yoda\n",
    "- Luke Skywalker\n",
    "- Anakin Skywalker"
   ]
  },
  {
   "cell_type": "markdown",
   "id": "bc0365e1",
   "metadata": {},
   "source": [
    "- Master Yoda\n",
    "- Luke Skywalker\n",
    "- Anakin Skywalker\n"
   ]
  },
  {
   "cell_type": "markdown",
   "id": "878183bb",
   "metadata": {},
   "source": [
    "1. Master Yoda\n",
    "   1. Was a Jedi\n",
    "   1. Was a bit green\n",
    "1. Luke Skywalker\n",
    "   1. Was a Jedi\n",
    "   1. Is Anakin's son.\n",
    "1. Anakin Skywalker\n",
    "   1. Was a Jedi then became a baddie\n",
    "   1. Is famous for saying 'Luke, I am your father'"
   ]
  },
  {
   "cell_type": "markdown",
   "id": "9df72444",
   "metadata": {},
   "source": [
    "1. Master Yoda\n",
    "   2. Was a Jedi\n",
    "   2. Was a bit green\n",
    "1. Luke Skywalker\n",
    "   2. Was a Jedi\n",
    "   2. Is Anakin's son.\n",
    "1. Anakin Skywalker\n",
    "   2. Was a Jedi then became a baddie\n",
    "   2. Is famous for saying 'Luke, I am your father'"
   ]
  },
  {
   "cell_type": "markdown",
   "id": "569c0ff1",
   "metadata": {},
   "source": [
    "1. Master Yoda\n",
    "   - Was a Jedi\n",
    "   - Was a bit green\n",
    "2. Luke Skywalker\n",
    "   - Was a Jedi\n",
    "   - Is Anakin's son.\n",
    "3. Anakin Skywalker\n",
    "   - Was a Jedi then became a baddie\n",
    "   - Is famous for saying 'Luke, I am your father'"
   ]
  },
  {
   "cell_type": "code",
   "execution_count": 9,
   "id": "21aadbbb",
   "metadata": {},
   "outputs": [
    {
     "ename": "SyntaxError",
     "evalue": "invalid syntax (1016134985.py, line 1)",
     "output_type": "error",
     "traceback": [
      "\u001b[1;36m  Cell \u001b[1;32mIn[9], line 1\u001b[1;36m\u001b[0m\n\u001b[1;33m    $\\sqrt{uhuanlo}\u001b[0m\n\u001b[1;37m    ^\u001b[0m\n\u001b[1;31mSyntaxError\u001b[0m\u001b[1;31m:\u001b[0m invalid syntax\n"
     ]
    }
   ],
   "source": [
    "$\\sqrt{uhuanlo}"
   ]
  },
  {
   "cell_type": "markdown",
   "id": "dd7bbef4",
   "metadata": {},
   "source": [
    "$\\sqrt{uhuanlo}$"
   ]
  },
  {
   "cell_type": "markdown",
   "id": "c647cfba",
   "metadata": {},
   "source": [
    "$$\n",
    "x = \\dfrac{-b \\pm \\sqrt{b^2-4ac}}{2a}\n",
    "$$"
   ]
  },
  {
   "cell_type": "markdown",
   "id": "a1c7b996",
   "metadata": {},
   "source": [
    "print"
   ]
  },
  {
   "cell_type": "markdown",
   "id": "bbe6df95",
   "metadata": {},
   "source": [
    "**Quadratic Equations**\n",
    "![](https://upload.wikimedia.org/wikipedia/commons/thumb/f/f8/Polynomialdeg2.svg/300px-Polynomialdeg2.svg.png)\n",
    "(*Image from the* [Wikipedia page on Quadratic equations](https://en.wikipedia.org/wiki/Quadratic_equation))\n",
    "\n",
    "**Introduction**\n",
    "\n",
    "The general form of a quadratic equation is:\n",
    "$$\n",
    "ax^{2}+bx+c=0\n",
    "$$\n",
    "**Solutions** Provided $a \\ne 0$, we can use an elementary algebraic method called [completing the square](https://en.wikipedia.org/wiki/Completing_the_square) to show that a quadratic equation has the following solution:\n",
    "$$\n",
    "x = \\dfrac{-b \\pm \\sqrt{b^2-4ac}}{2a}\n",
    "$$\n",
    "**Discriminant**\n",
    "\n",
    "The quantity $\\Delta$ = $b^{2}$-4ac is called the **discriminant** of the equation and decides the nature of its solutions. The table below shows the various possibilities.\n",
    "\n",
    "|**Discriminant**|**Roots**|\n",
    "|:---|---:|\n",
    "|$$\\Delta = b^{2}-4ac=0$$ |A single solution of -**b/(2a)**| \n",
    "|$$\\Delta = b^{2}-4ac \\gt 0$$|two distinct solutions|\n",
    "|$$\\Delta = b^{2}-4ac \\lt 0$$|No real solutions;both are complex|"
   ]
  },
  {
   "cell_type": "markdown",
   "id": "e8ce504f",
   "metadata": {},
   "source": [
    "1. A repository is a record of changes made to the code \n",
    "1. changes\n",
    "1. upload from localhost to local github\n",
    "1. upload from local github to remote github, allowing others to see\n",
    "1.Github is the online cloud and Github Desktop is the local cloud\n",
    "1.fetching from remote github"
   ]
  },
  {
   "cell_type": "code",
   "execution_count": null,
   "id": "1103ce56",
   "metadata": {},
   "outputs": [],
   "source": []
  }
 ],
 "metadata": {
  "kernelspec": {
   "display_name": "Python 3 (ipykernel)",
   "language": "python",
   "name": "python3"
  },
  "language_info": {
   "codemirror_mode": {
    "name": "ipython",
    "version": 3
   },
   "file_extension": ".py",
   "mimetype": "text/x-python",
   "name": "python",
   "nbconvert_exporter": "python",
   "pygments_lexer": "ipython3",
   "version": "3.10.8"
  }
 },
 "nbformat": 4,
 "nbformat_minor": 5
}
