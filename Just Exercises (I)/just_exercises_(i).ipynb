{
 "cells": [
  {
   "cell_type": "markdown",
   "id": "123456",
   "metadata": {},
   "source": [
    "<div style=\"text-align:left;font-size:2em\"><span style=\"font-weight:bolder;font-size:1.25em\">SP2273 | Learning Portfolio</span><br><br><span style=\"font-weight:bold;color:darkred\">Just Exercises (I)</span></div>"
   ]
  },
  {
   "cell_type": "markdown",
   "id": "67a11c40",
   "metadata": {},
   "source": [
    "## Exercise 1 :  F-strings to the rescue"
   ]
  },
  {
   "cell_type": "code",
   "execution_count": 1,
   "id": "aa66493b",
   "metadata": {},
   "outputs": [
    {
     "name": "stdout",
     "output_type": "stream",
     "text": [
      "00001\n",
      "00002\n",
      "00003\n",
      "00004\n",
      "00005\n",
      "00006\n",
      "00007\n",
      "00008\n",
      "00009\n",
      "00010\n"
     ]
    }
   ],
   "source": [
    "\n",
    "for i in range(1,11):\n",
    "    print(f\"{i:05d}\")\n",
    "\n"
   ]
  },
  {
   "cell_type": "code",
   "execution_count": 4,
   "id": "d44294ca",
   "metadata": {},
   "outputs": [
    {
     "name": "stdout",
     "output_type": "stream",
     "text": [
      "001          +\n",
      "002         ++\n",
      "003        +++\n",
      "004       ++++\n",
      "005      +++++\n",
      "006     ++++++\n",
      "007    +++++++\n",
      "008   ++++++++\n",
      "009  +++++++++\n",
      "010 ++++++++++\n"
     ]
    }
   ],
   "source": [
    "for i in range(1,11):\n",
    "    print(f\"{i:03d} {'+'*i:>10}\")"
   ]
  },
  {
   "cell_type": "code",
   "execution_count": 9,
   "id": "899b5534",
   "metadata": {},
   "outputs": [
    {
     "name": "stdout",
     "output_type": "stream",
     "text": [
      "001 -+++++++++\n",
      "002 --++++++++\n",
      "003 ---+++++++\n",
      "004 ----++++++\n",
      "005 -----+++++\n",
      "006 ------++++\n",
      "007 -------+++\n",
      "008 --------++\n",
      "009 ---------+\n",
      "010 ----------\n"
     ]
    }
   ],
   "source": [
    "for i in range(1,11):\n",
    "    print(f\"{i:03d} {'-'*i}{'+'*(10-i)}\")"
   ]
  },
  {
   "cell_type": "code",
   "execution_count": 31,
   "id": "1cf7c92b",
   "metadata": {},
   "outputs": [
    {
     "name": "stdout",
     "output_type": "stream",
     "text": [
      "['bruce_exploits.txt', 'bruce_enemies.txt', 'bruce_friends.txt', 'natasha_exploits.txt', 'natasha_enemies.txt', 'natasha_friends.txt', 'tony_exploits.txt', 'tony_enemies.txt', 'tony_friends.txt']\n"
     ]
    }
   ],
   "source": [
    "info =[]\n",
    "names = [\"bruce\",\"natasha\",\"tony\"]\n",
    "status = [\"exploits\",\"enemies\",\"friends\"]\n",
    "for i in names:\n",
    "    for j in status:\n",
    "        info.append(f\"{i}_{j}.txt\")\n",
    "print(info)"
   ]
  },
  {
   "cell_type": "code",
   "execution_count": 32,
   "id": "57c15f1a",
   "metadata": {},
   "outputs": [
    {
     "name": "stdout",
     "output_type": "stream",
     "text": [
      "['data_sg_exp-01_trial-001.txt', 'data_sg_exp-01_trial-002.txt', 'data_sg_exp-01_trial-003.txt', 'data_sg_exp-01_trial-004.txt', 'data_sg_exp-01_trial-005.txt', 'data_sg_exp-01_trial-006.txt', 'data_sg_exp-01_trial-007.txt', 'data_sg_exp-01_trial-008.txt', 'data_sg_exp-01_trial-009.txt', 'data_sg_exp-01_trial-010.txt', 'data_sg_exp-01_trial-011.txt', 'data_sg_exp-01_trial-012.txt', 'data_sg_exp-01_trial-013.txt', 'data_sg_exp-01_trial-014.txt', 'data_sg_exp-01_trial-015.txt', 'data_sg_exp-01_trial-016.txt', 'data_sg_exp-01_trial-017.txt', 'data_sg_exp-01_trial-018.txt', 'data_sg_exp-01_trial-019.txt', 'data_sg_exp-01_trial-020.txt', 'data_sg_exp-01_trial-021.txt', 'data_sg_exp-01_trial-022.txt', 'data_sg_exp-01_trial-023.txt', 'data_sg_exp-01_trial-024.txt', 'data_sg_exp-01_trial-025.txt', 'data_sg_exp-01_trial-026.txt', 'data_sg_exp-01_trial-027.txt', 'data_sg_exp-01_trial-028.txt', 'data_sg_exp-01_trial-029.txt', 'data_sg_exp-01_trial-030.txt', 'data_sg_exp-01_trial-031.txt', 'data_sg_exp-01_trial-032.txt', 'data_sg_exp-01_trial-033.txt', 'data_sg_exp-01_trial-034.txt', 'data_sg_exp-01_trial-035.txt', 'data_sg_exp-01_trial-036.txt', 'data_sg_exp-01_trial-037.txt', 'data_sg_exp-01_trial-038.txt', 'data_sg_exp-01_trial-039.txt', 'data_sg_exp-01_trial-040.txt', 'data_sg_exp-01_trial-041.txt', 'data_sg_exp-01_trial-042.txt', 'data_sg_exp-01_trial-043.txt', 'data_sg_exp-01_trial-044.txt', 'data_sg_exp-01_trial-045.txt', 'data_sg_exp-01_trial-046.txt', 'data_sg_exp-01_trial-047.txt', 'data_sg_exp-01_trial-048.txt', 'data_sg_exp-01_trial-049.txt', 'data_sg_exp-01_trial-050.txt', 'data_sg_exp-02_trial-001.txt', 'data_sg_exp-02_trial-002.txt', 'data_sg_exp-02_trial-003.txt', 'data_sg_exp-02_trial-004.txt', 'data_sg_exp-02_trial-005.txt', 'data_sg_exp-02_trial-006.txt', 'data_sg_exp-02_trial-007.txt', 'data_sg_exp-02_trial-008.txt', 'data_sg_exp-02_trial-009.txt', 'data_sg_exp-02_trial-010.txt', 'data_sg_exp-02_trial-011.txt', 'data_sg_exp-02_trial-012.txt', 'data_sg_exp-02_trial-013.txt', 'data_sg_exp-02_trial-014.txt', 'data_sg_exp-02_trial-015.txt', 'data_sg_exp-02_trial-016.txt', 'data_sg_exp-02_trial-017.txt', 'data_sg_exp-02_trial-018.txt', 'data_sg_exp-02_trial-019.txt', 'data_sg_exp-02_trial-020.txt', 'data_sg_exp-02_trial-021.txt', 'data_sg_exp-02_trial-022.txt', 'data_sg_exp-02_trial-023.txt', 'data_sg_exp-02_trial-024.txt', 'data_sg_exp-02_trial-025.txt', 'data_sg_exp-02_trial-026.txt', 'data_sg_exp-02_trial-027.txt', 'data_sg_exp-02_trial-028.txt', 'data_sg_exp-02_trial-029.txt', 'data_sg_exp-02_trial-030.txt', 'data_sg_exp-02_trial-031.txt', 'data_sg_exp-02_trial-032.txt', 'data_sg_exp-02_trial-033.txt', 'data_sg_exp-02_trial-034.txt', 'data_sg_exp-02_trial-035.txt', 'data_sg_exp-02_trial-036.txt', 'data_sg_exp-02_trial-037.txt', 'data_sg_exp-02_trial-038.txt', 'data_sg_exp-02_trial-039.txt', 'data_sg_exp-02_trial-040.txt', 'data_sg_exp-02_trial-041.txt', 'data_sg_exp-02_trial-042.txt', 'data_sg_exp-02_trial-043.txt', 'data_sg_exp-02_trial-044.txt', 'data_sg_exp-02_trial-045.txt', 'data_sg_exp-02_trial-046.txt', 'data_sg_exp-02_trial-047.txt', 'data_sg_exp-02_trial-048.txt', 'data_sg_exp-02_trial-049.txt', 'data_sg_exp-02_trial-050.txt', 'data_sg_exp-03_trial-001.txt', 'data_sg_exp-03_trial-002.txt', 'data_sg_exp-03_trial-003.txt', 'data_sg_exp-03_trial-004.txt', 'data_sg_exp-03_trial-005.txt', 'data_sg_exp-03_trial-006.txt', 'data_sg_exp-03_trial-007.txt', 'data_sg_exp-03_trial-008.txt', 'data_sg_exp-03_trial-009.txt', 'data_sg_exp-03_trial-010.txt', 'data_sg_exp-03_trial-011.txt', 'data_sg_exp-03_trial-012.txt', 'data_sg_exp-03_trial-013.txt', 'data_sg_exp-03_trial-014.txt', 'data_sg_exp-03_trial-015.txt', 'data_sg_exp-03_trial-016.txt', 'data_sg_exp-03_trial-017.txt', 'data_sg_exp-03_trial-018.txt', 'data_sg_exp-03_trial-019.txt', 'data_sg_exp-03_trial-020.txt', 'data_sg_exp-03_trial-021.txt', 'data_sg_exp-03_trial-022.txt', 'data_sg_exp-03_trial-023.txt', 'data_sg_exp-03_trial-024.txt', 'data_sg_exp-03_trial-025.txt', 'data_sg_exp-03_trial-026.txt', 'data_sg_exp-03_trial-027.txt', 'data_sg_exp-03_trial-028.txt', 'data_sg_exp-03_trial-029.txt', 'data_sg_exp-03_trial-030.txt', 'data_sg_exp-03_trial-031.txt', 'data_sg_exp-03_trial-032.txt', 'data_sg_exp-03_trial-033.txt', 'data_sg_exp-03_trial-034.txt', 'data_sg_exp-03_trial-035.txt', 'data_sg_exp-03_trial-036.txt', 'data_sg_exp-03_trial-037.txt', 'data_sg_exp-03_trial-038.txt', 'data_sg_exp-03_trial-039.txt', 'data_sg_exp-03_trial-040.txt', 'data_sg_exp-03_trial-041.txt', 'data_sg_exp-03_trial-042.txt', 'data_sg_exp-03_trial-043.txt', 'data_sg_exp-03_trial-044.txt', 'data_sg_exp-03_trial-045.txt', 'data_sg_exp-03_trial-046.txt', 'data_sg_exp-03_trial-047.txt', 'data_sg_exp-03_trial-048.txt', 'data_sg_exp-03_trial-049.txt', 'data_sg_exp-03_trial-050.txt', 'data_gb_exp-01_trial-001.txt', 'data_gb_exp-01_trial-002.txt', 'data_gb_exp-01_trial-003.txt', 'data_gb_exp-01_trial-004.txt', 'data_gb_exp-01_trial-005.txt', 'data_gb_exp-01_trial-006.txt', 'data_gb_exp-01_trial-007.txt', 'data_gb_exp-01_trial-008.txt', 'data_gb_exp-01_trial-009.txt', 'data_gb_exp-01_trial-010.txt', 'data_gb_exp-01_trial-011.txt', 'data_gb_exp-01_trial-012.txt', 'data_gb_exp-01_trial-013.txt', 'data_gb_exp-01_trial-014.txt', 'data_gb_exp-01_trial-015.txt', 'data_gb_exp-01_trial-016.txt', 'data_gb_exp-01_trial-017.txt', 'data_gb_exp-01_trial-018.txt', 'data_gb_exp-01_trial-019.txt', 'data_gb_exp-01_trial-020.txt', 'data_gb_exp-01_trial-021.txt', 'data_gb_exp-01_trial-022.txt', 'data_gb_exp-01_trial-023.txt', 'data_gb_exp-01_trial-024.txt', 'data_gb_exp-01_trial-025.txt', 'data_gb_exp-01_trial-026.txt', 'data_gb_exp-01_trial-027.txt', 'data_gb_exp-01_trial-028.txt', 'data_gb_exp-01_trial-029.txt', 'data_gb_exp-01_trial-030.txt', 'data_gb_exp-01_trial-031.txt', 'data_gb_exp-01_trial-032.txt', 'data_gb_exp-01_trial-033.txt', 'data_gb_exp-01_trial-034.txt', 'data_gb_exp-01_trial-035.txt', 'data_gb_exp-01_trial-036.txt', 'data_gb_exp-01_trial-037.txt', 'data_gb_exp-01_trial-038.txt', 'data_gb_exp-01_trial-039.txt', 'data_gb_exp-01_trial-040.txt', 'data_gb_exp-01_trial-041.txt', 'data_gb_exp-01_trial-042.txt', 'data_gb_exp-01_trial-043.txt', 'data_gb_exp-01_trial-044.txt', 'data_gb_exp-01_trial-045.txt', 'data_gb_exp-01_trial-046.txt', 'data_gb_exp-01_trial-047.txt', 'data_gb_exp-01_trial-048.txt', 'data_gb_exp-01_trial-049.txt', 'data_gb_exp-01_trial-050.txt', 'data_gb_exp-02_trial-001.txt', 'data_gb_exp-02_trial-002.txt', 'data_gb_exp-02_trial-003.txt', 'data_gb_exp-02_trial-004.txt', 'data_gb_exp-02_trial-005.txt', 'data_gb_exp-02_trial-006.txt', 'data_gb_exp-02_trial-007.txt', 'data_gb_exp-02_trial-008.txt', 'data_gb_exp-02_trial-009.txt', 'data_gb_exp-02_trial-010.txt', 'data_gb_exp-02_trial-011.txt', 'data_gb_exp-02_trial-012.txt', 'data_gb_exp-02_trial-013.txt', 'data_gb_exp-02_trial-014.txt', 'data_gb_exp-02_trial-015.txt', 'data_gb_exp-02_trial-016.txt', 'data_gb_exp-02_trial-017.txt', 'data_gb_exp-02_trial-018.txt', 'data_gb_exp-02_trial-019.txt', 'data_gb_exp-02_trial-020.txt', 'data_gb_exp-02_trial-021.txt', 'data_gb_exp-02_trial-022.txt', 'data_gb_exp-02_trial-023.txt', 'data_gb_exp-02_trial-024.txt', 'data_gb_exp-02_trial-025.txt', 'data_gb_exp-02_trial-026.txt', 'data_gb_exp-02_trial-027.txt', 'data_gb_exp-02_trial-028.txt', 'data_gb_exp-02_trial-029.txt', 'data_gb_exp-02_trial-030.txt', 'data_gb_exp-02_trial-031.txt', 'data_gb_exp-02_trial-032.txt', 'data_gb_exp-02_trial-033.txt', 'data_gb_exp-02_trial-034.txt', 'data_gb_exp-02_trial-035.txt', 'data_gb_exp-02_trial-036.txt', 'data_gb_exp-02_trial-037.txt', 'data_gb_exp-02_trial-038.txt', 'data_gb_exp-02_trial-039.txt', 'data_gb_exp-02_trial-040.txt', 'data_gb_exp-02_trial-041.txt', 'data_gb_exp-02_trial-042.txt', 'data_gb_exp-02_trial-043.txt', 'data_gb_exp-02_trial-044.txt', 'data_gb_exp-02_trial-045.txt', 'data_gb_exp-02_trial-046.txt', 'data_gb_exp-02_trial-047.txt', 'data_gb_exp-02_trial-048.txt', 'data_gb_exp-02_trial-049.txt', 'data_gb_exp-02_trial-050.txt', 'data_gb_exp-03_trial-001.txt', 'data_gb_exp-03_trial-002.txt', 'data_gb_exp-03_trial-003.txt', 'data_gb_exp-03_trial-004.txt', 'data_gb_exp-03_trial-005.txt', 'data_gb_exp-03_trial-006.txt', 'data_gb_exp-03_trial-007.txt', 'data_gb_exp-03_trial-008.txt', 'data_gb_exp-03_trial-009.txt', 'data_gb_exp-03_trial-010.txt', 'data_gb_exp-03_trial-011.txt', 'data_gb_exp-03_trial-012.txt', 'data_gb_exp-03_trial-013.txt', 'data_gb_exp-03_trial-014.txt', 'data_gb_exp-03_trial-015.txt', 'data_gb_exp-03_trial-016.txt', 'data_gb_exp-03_trial-017.txt', 'data_gb_exp-03_trial-018.txt', 'data_gb_exp-03_trial-019.txt', 'data_gb_exp-03_trial-020.txt', 'data_gb_exp-03_trial-021.txt', 'data_gb_exp-03_trial-022.txt', 'data_gb_exp-03_trial-023.txt', 'data_gb_exp-03_trial-024.txt', 'data_gb_exp-03_trial-025.txt', 'data_gb_exp-03_trial-026.txt', 'data_gb_exp-03_trial-027.txt', 'data_gb_exp-03_trial-028.txt', 'data_gb_exp-03_trial-029.txt', 'data_gb_exp-03_trial-030.txt', 'data_gb_exp-03_trial-031.txt', 'data_gb_exp-03_trial-032.txt', 'data_gb_exp-03_trial-033.txt', 'data_gb_exp-03_trial-034.txt', 'data_gb_exp-03_trial-035.txt', 'data_gb_exp-03_trial-036.txt', 'data_gb_exp-03_trial-037.txt', 'data_gb_exp-03_trial-038.txt', 'data_gb_exp-03_trial-039.txt', 'data_gb_exp-03_trial-040.txt', 'data_gb_exp-03_trial-041.txt', 'data_gb_exp-03_trial-042.txt', 'data_gb_exp-03_trial-043.txt', 'data_gb_exp-03_trial-044.txt', 'data_gb_exp-03_trial-045.txt', 'data_gb_exp-03_trial-046.txt', 'data_gb_exp-03_trial-047.txt', 'data_gb_exp-03_trial-048.txt', 'data_gb_exp-03_trial-049.txt', 'data_gb_exp-03_trial-050.txt', 'data_us_exp-01_trial-001.txt', 'data_us_exp-01_trial-002.txt', 'data_us_exp-01_trial-003.txt', 'data_us_exp-01_trial-004.txt', 'data_us_exp-01_trial-005.txt', 'data_us_exp-01_trial-006.txt', 'data_us_exp-01_trial-007.txt', 'data_us_exp-01_trial-008.txt', 'data_us_exp-01_trial-009.txt', 'data_us_exp-01_trial-010.txt', 'data_us_exp-01_trial-011.txt', 'data_us_exp-01_trial-012.txt', 'data_us_exp-01_trial-013.txt', 'data_us_exp-01_trial-014.txt', 'data_us_exp-01_trial-015.txt', 'data_us_exp-01_trial-016.txt', 'data_us_exp-01_trial-017.txt', 'data_us_exp-01_trial-018.txt', 'data_us_exp-01_trial-019.txt', 'data_us_exp-01_trial-020.txt', 'data_us_exp-01_trial-021.txt', 'data_us_exp-01_trial-022.txt', 'data_us_exp-01_trial-023.txt', 'data_us_exp-01_trial-024.txt', 'data_us_exp-01_trial-025.txt', 'data_us_exp-01_trial-026.txt', 'data_us_exp-01_trial-027.txt', 'data_us_exp-01_trial-028.txt', 'data_us_exp-01_trial-029.txt', 'data_us_exp-01_trial-030.txt', 'data_us_exp-01_trial-031.txt', 'data_us_exp-01_trial-032.txt', 'data_us_exp-01_trial-033.txt', 'data_us_exp-01_trial-034.txt', 'data_us_exp-01_trial-035.txt', 'data_us_exp-01_trial-036.txt', 'data_us_exp-01_trial-037.txt', 'data_us_exp-01_trial-038.txt', 'data_us_exp-01_trial-039.txt', 'data_us_exp-01_trial-040.txt', 'data_us_exp-01_trial-041.txt', 'data_us_exp-01_trial-042.txt', 'data_us_exp-01_trial-043.txt', 'data_us_exp-01_trial-044.txt', 'data_us_exp-01_trial-045.txt', 'data_us_exp-01_trial-046.txt', 'data_us_exp-01_trial-047.txt', 'data_us_exp-01_trial-048.txt', 'data_us_exp-01_trial-049.txt', 'data_us_exp-01_trial-050.txt', 'data_us_exp-02_trial-001.txt', 'data_us_exp-02_trial-002.txt', 'data_us_exp-02_trial-003.txt', 'data_us_exp-02_trial-004.txt', 'data_us_exp-02_trial-005.txt', 'data_us_exp-02_trial-006.txt', 'data_us_exp-02_trial-007.txt', 'data_us_exp-02_trial-008.txt', 'data_us_exp-02_trial-009.txt', 'data_us_exp-02_trial-010.txt', 'data_us_exp-02_trial-011.txt', 'data_us_exp-02_trial-012.txt', 'data_us_exp-02_trial-013.txt', 'data_us_exp-02_trial-014.txt', 'data_us_exp-02_trial-015.txt', 'data_us_exp-02_trial-016.txt', 'data_us_exp-02_trial-017.txt', 'data_us_exp-02_trial-018.txt', 'data_us_exp-02_trial-019.txt', 'data_us_exp-02_trial-020.txt', 'data_us_exp-02_trial-021.txt', 'data_us_exp-02_trial-022.txt', 'data_us_exp-02_trial-023.txt', 'data_us_exp-02_trial-024.txt', 'data_us_exp-02_trial-025.txt', 'data_us_exp-02_trial-026.txt', 'data_us_exp-02_trial-027.txt', 'data_us_exp-02_trial-028.txt', 'data_us_exp-02_trial-029.txt', 'data_us_exp-02_trial-030.txt', 'data_us_exp-02_trial-031.txt', 'data_us_exp-02_trial-032.txt', 'data_us_exp-02_trial-033.txt', 'data_us_exp-02_trial-034.txt', 'data_us_exp-02_trial-035.txt', 'data_us_exp-02_trial-036.txt', 'data_us_exp-02_trial-037.txt', 'data_us_exp-02_trial-038.txt', 'data_us_exp-02_trial-039.txt', 'data_us_exp-02_trial-040.txt', 'data_us_exp-02_trial-041.txt', 'data_us_exp-02_trial-042.txt', 'data_us_exp-02_trial-043.txt', 'data_us_exp-02_trial-044.txt', 'data_us_exp-02_trial-045.txt', 'data_us_exp-02_trial-046.txt', 'data_us_exp-02_trial-047.txt', 'data_us_exp-02_trial-048.txt', 'data_us_exp-02_trial-049.txt', 'data_us_exp-02_trial-050.txt', 'data_us_exp-03_trial-001.txt', 'data_us_exp-03_trial-002.txt', 'data_us_exp-03_trial-003.txt', 'data_us_exp-03_trial-004.txt', 'data_us_exp-03_trial-005.txt', 'data_us_exp-03_trial-006.txt', 'data_us_exp-03_trial-007.txt', 'data_us_exp-03_trial-008.txt', 'data_us_exp-03_trial-009.txt', 'data_us_exp-03_trial-010.txt', 'data_us_exp-03_trial-011.txt', 'data_us_exp-03_trial-012.txt', 'data_us_exp-03_trial-013.txt', 'data_us_exp-03_trial-014.txt', 'data_us_exp-03_trial-015.txt', 'data_us_exp-03_trial-016.txt', 'data_us_exp-03_trial-017.txt', 'data_us_exp-03_trial-018.txt', 'data_us_exp-03_trial-019.txt', 'data_us_exp-03_trial-020.txt', 'data_us_exp-03_trial-021.txt', 'data_us_exp-03_trial-022.txt', 'data_us_exp-03_trial-023.txt', 'data_us_exp-03_trial-024.txt', 'data_us_exp-03_trial-025.txt', 'data_us_exp-03_trial-026.txt', 'data_us_exp-03_trial-027.txt', 'data_us_exp-03_trial-028.txt', 'data_us_exp-03_trial-029.txt', 'data_us_exp-03_trial-030.txt', 'data_us_exp-03_trial-031.txt', 'data_us_exp-03_trial-032.txt', 'data_us_exp-03_trial-033.txt', 'data_us_exp-03_trial-034.txt', 'data_us_exp-03_trial-035.txt', 'data_us_exp-03_trial-036.txt', 'data_us_exp-03_trial-037.txt', 'data_us_exp-03_trial-038.txt', 'data_us_exp-03_trial-039.txt', 'data_us_exp-03_trial-040.txt', 'data_us_exp-03_trial-041.txt', 'data_us_exp-03_trial-042.txt', 'data_us_exp-03_trial-043.txt', 'data_us_exp-03_trial-044.txt', 'data_us_exp-03_trial-045.txt', 'data_us_exp-03_trial-046.txt', 'data_us_exp-03_trial-047.txt', 'data_us_exp-03_trial-048.txt', 'data_us_exp-03_trial-049.txt', 'data_us_exp-03_trial-050.txt']\n"
     ]
    }
   ],
   "source": [
    "info=[]\n",
    "country = [\"sg\",\"gb\",\"us\"]\n",
    "for i in country:\n",
    "    for j in range(1,4):\n",
    "        for k in range(1,51):\n",
    "            info.append(f\"data_{i}_exp-{j:02d}_trial-{k:03d}.txt\")\n",
    "print (info)\n"
   ]
  },
  {
   "cell_type": "markdown",
   "id": "ddf9cdae",
   "metadata": {},
   "source": [
    "## Exercise 2 :  Tutti frutti"
   ]
  },
  {
   "cell_type": "markdown",
   "id": "9f2b45db",
   "metadata": {},
   "source": [
    "1.yes"
   ]
  },
  {
   "cell_type": "code",
   "execution_count": 33,
   "id": "c23327c9",
   "metadata": {},
   "outputs": [
    {
     "name": "stdout",
     "output_type": "stream",
     "text": [
      "a e\n",
      "b a\n",
      "p e\n",
      "j t\n",
      "p h\n",
      "d n\n",
      "w n\n",
      "m o\n",
      "s y\n",
      "p t\n"
     ]
    }
   ],
   "source": [
    "fruits = [\"apple\", \"banana\", \"pineapple\", \"jackfruit\",\n",
    "        \"peach\", \"durian\", \"watermelon\", \"mango\",\n",
    "        \"strawberry\", \"passionfruit\"]\n",
    "for i in fruits:\n",
    "    print (i[0],i[-1])"
   ]
  },
  {
   "cell_type": "code",
   "execution_count": 38,
   "id": "5cfb8775",
   "metadata": {},
   "outputs": [
    {
     "name": "stdout",
     "output_type": "stream",
     "text": [
      "apple\n",
      "banana\n",
      "PINEAPPLE\n",
      "jackfruit\n",
      "PEACH\n",
      "durian\n",
      "watermelon\n",
      "mango\n",
      "strawberry\n",
      "PASSIONFRUIT\n"
     ]
    }
   ],
   "source": [
    "fruits = [\"apple\", \"banana\", \"pineapple\", \"jackfruit\",\n",
    "        \"peach\", \"durian\", \"watermelon\", \"mango\",\n",
    "        \"strawberry\", \"passionfruit\"]\n",
    "for i in fruits:\n",
    "    if i[0] == \"p\":\n",
    "        print (i.upper())\n",
    "    else:\n",
    "        print (i.lower())"
   ]
  },
  {
   "cell_type": "code",
   "execution_count": 41,
   "id": "96d434f1",
   "metadata": {},
   "outputs": [
    {
     "name": "stdout",
     "output_type": "stream",
     "text": [
      "['apple', 'banana', 'pineapple', 'jackfruit', 'peach', 'durian', 'watermelon', 'mango', 'strawberry', 'passionfruit', 'dragon fruit', 'apricots', 'oranges']\n"
     ]
    }
   ],
   "source": [
    "fruits = [\"apple\", \"banana\", \"pineapple\", \"jackfruit\",\n",
    "        \"peach\", \"durian\", \"watermelon\", \"mango\",\n",
    "        \"strawberry\", \"passionfruit\"]\n",
    "fruits_2 = [\"dragon fruit\", \"apricots\", \"oranges\"]\n",
    "new_fruits = fruits + fruits_2\n",
    "print (new_fruits)"
   ]
  },
  {
   "cell_type": "code",
   "execution_count": 42,
   "id": "bdd876c8",
   "metadata": {},
   "outputs": [
    {
     "name": "stdout",
     "output_type": "stream",
     "text": [
      "['dragon fruit', 'apricots', 'oranges', 'apple', 'banana', 'pineapple', 'jackfruit', 'peach', 'durian', 'watermelon', 'mango', 'strawberry', 'passionfruit']\n"
     ]
    }
   ],
   "source": [
    "fruits = [\"apple\", \"banana\", \"pineapple\", \"jackfruit\",\n",
    "        \"peach\", \"durian\", \"watermelon\", \"mango\",\n",
    "        \"strawberry\", \"passionfruit\"]\n",
    "fruits_2 = [\"dragon fruit\", \"apricots\", \"oranges\"]\n",
    "new_fruits_prepend = fruits_2 + fruits\n",
    "print (new_fruits_prepend)"
   ]
  },
  {
   "cell_type": "code",
   "execution_count": 43,
   "id": "92825b64",
   "metadata": {},
   "outputs": [
    {
     "name": "stdout",
     "output_type": "stream",
     "text": [
      "['apple', 'banana', 'pineapple', 'jackfruit', 'peach', 'dragon fruit', 'apricots', 'oranges', 'durian', 'watermelon', 'mango', 'strawberry', 'passionfruit']\n"
     ]
    }
   ],
   "source": [
    "fruits = [\"apple\", \"banana\", \"pineapple\", \"jackfruit\",\"peach\"]\n",
    "fruits_2 = [\"dragon fruit\", \"apricots\", \"oranges\"]\n",
    "fruits_3 = [\"durian\", \"watermelon\", \"mango\",\"strawberry\", \"passionfruit\"]\n",
    "fruits_middle = fruits + fruits_2 + fruits_3\n",
    "print (fruits_middle)\n"
   ]
  },
  {
   "cell_type": "code",
   "execution_count": 48,
   "id": "cc62eaf5",
   "metadata": {},
   "outputs": [
    {
     "name": "stdout",
     "output_type": "stream",
     "text": [
      "['apple', 'banana', 'pineapple', 'jackfruit', 'peach', 'dragon fruit', 'apricots', 'oranges', 'durian', 'watermelon', 'mango', 'strawberry', 'passionfruit']\n"
     ]
    }
   ],
   "source": [
    "fruits = [\"apple\", \"banana\", \"pineapple\", \"jackfruit\",\n",
    "        \"peach\", \"durian\", \"watermelon\", \"mango\",\n",
    "        \"strawberry\", \"passionfruit\"]\n",
    "fruits_2 = [\"dragon fruit\", \"apricots\", \"oranges\"]\n",
    "midpoint = len(fruits)//2\n",
    "fruits_middle = fruits[0:midpoint] + fruits_2 + fruits [midpoint:]\n",
    "print (fruits_middle)"
   ]
  },
  {
   "cell_type": "code",
   "execution_count": 51,
   "id": "aca3ff2f",
   "metadata": {},
   "outputs": [
    {
     "name": "stdout",
     "output_type": "stream",
     "text": [
      "['pineapple', 'jackfruit', 'watermelon', 'strawberry', 'passionfruit']\n"
     ]
    }
   ],
   "source": [
    "fruits = [\"apple\", \"banana\", \"pineapple\", \"jackfruit\",\n",
    "        \"peach\", \"durian\", \"watermelon\", \"mango\",\n",
    "        \"strawberry\", \"passionfruit\"]\n",
    "fruits_morethan_8 =[x for x in fruits if len(x)>8]\n",
    "\n",
    "print(fruits_morethan_8)"
   ]
  },
  {
   "cell_type": "markdown",
   "id": "e5454d36",
   "metadata": {},
   "source": [
    "# Exercise 3 :  Ciao Fibonacci"
   ]
  },
  {
   "cell_type": "code",
   "execution_count": null,
   "id": "1563dcef",
   "metadata": {},
   "outputs": [],
   "source": [
    "fibonacci=[0,1]\n",
    "x=0\n",
    "y=1\n",
    "for x in fibonacci:\n",
    "    \n",
    "\n",
    "\n",
    "\n",
    "\n"
   ]
  },
  {
   "cell_type": "markdown",
   "id": "28b78ca3",
   "metadata": {},
   "source": [
    "## Exercise 4 :  A function for Fibonacci"
   ]
  },
  {
   "cell_type": "code",
   "execution_count": null,
   "id": "e0999863",
   "metadata": {},
   "outputs": [],
   "source": [
    "\n",
    "\n",
    "\n",
    "# Your solution here\n",
    "\n",
    "\n"
   ]
  },
  {
   "cell_type": "markdown",
   "id": "02fe68e7",
   "metadata": {},
   "source": [
    "## Exercise 5 :  max_info() without NumPy"
   ]
  },
  {
   "cell_type": "code",
   "execution_count": null,
   "id": "9fa29ea7",
   "metadata": {},
   "outputs": [],
   "source": [
    "\n",
    "\n",
    "\n",
    "# Your solution here\n",
    "\n",
    "\n"
   ]
  },
  {
   "cell_type": "markdown",
   "id": "97502dbe",
   "metadata": {},
   "source": [
    "## Exercise 6 :  Take count"
   ]
  },
  {
   "cell_type": "code",
   "execution_count": null,
   "id": "6964b845",
   "metadata": {},
   "outputs": [],
   "source": [
    "\n",
    "\n",
    "\n",
    "# Your solution here\n",
    "\n",
    "\n"
   ]
  }
 ],
 "metadata": {
  "kernelspec": {
   "display_name": "Python 3 (ipykernel)",
   "language": "python",
   "name": "python3"
  },
  "language_info": {
   "codemirror_mode": {
    "name": "ipython",
    "version": 3
   },
   "file_extension": ".py",
   "mimetype": "text/x-python",
   "name": "python",
   "nbconvert_exporter": "python",
   "pygments_lexer": "ipython3",
   "version": "3.10.8"
  },
  "toc": {
   "base_numbering": 1,
   "nav_menu": {},
   "number_sections": true,
   "sideBar": true,
   "skip_h1_title": false,
   "title_cell": "Table of Contents",
   "title_sidebar": "Contents",
   "toc_cell": false,
   "toc_position": {},
   "toc_section_display": true,
   "toc_window_display": false
  },
  "varInspector": {
   "cols": {
    "lenName": 16,
    "lenType": 16,
    "lenVar": 40
   },
   "kernels_config": {
    "python": {
     "delete_cmd_postfix": "",
     "delete_cmd_prefix": "del ",
     "library": "var_list.py",
     "varRefreshCmd": "print(var_dic_list())"
    },
    "r": {
     "delete_cmd_postfix": ") ",
     "delete_cmd_prefix": "rm(",
     "library": "var_list.r",
     "varRefreshCmd": "cat(var_dic_list()) "
    }
   },
   "types_to_exclude": [
    "module",
    "function",
    "builtin_function_or_method",
    "instance",
    "_Feature"
   ],
   "window_display": false
  },
  "vscode": {
   "interpreter": {
    "hash": "31f2aee4e71d21fbe5cf8b01ff0e069b9275f58929596ceb00d14d90e3e16cd6"
   }
  }
 },
 "nbformat": 4,
 "nbformat_minor": 5
}
